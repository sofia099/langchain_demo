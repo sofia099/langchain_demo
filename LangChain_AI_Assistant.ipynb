{
 "cells": [
  {
   "cell_type": "code",
   "execution_count": 29,
   "id": "9a21b60d-0556-4aca-8fea-84b4a49adbe3",
   "metadata": {},
   "outputs": [],
   "source": [
    "# Note: any ModuleNotFoundErrors imply your enviornment is missing the module. If you come across\n",
    "#       this error, run the pip install command & restart the kernal to pick up the changes.\n",
    "\n",
    "#pip install langchain\n",
    "#pip install openai\n",
    "#pip install rockset\n",
    "#pip install pandas"
   ]
  },
  {
   "cell_type": "code",
   "execution_count": 30,
   "id": "1325b20a-fee5-425c-98cf-f68bcd24d4a8",
   "metadata": {},
   "outputs": [],
   "source": [
    "from rockset import RocksetClient, Regions, models\n",
    "from langchain import OpenAI\n",
    "from langchain.document_loaders import RocksetLoader\n",
    "from langchain.text_splitter import CharacterTextSplitter\n",
    "from langchain.embeddings.openai import OpenAIEmbeddings\n",
    "from langchain.vectorstores.rocksetdb import Rockset\n",
    "from langchain.agents.agent_toolkits import (\n",
    "    create_vectorstore_agent,\n",
    "    VectorStoreToolkit,\n",
    "    VectorStoreInfo,\n",
    ")"
   ]
  },
  {
   "cell_type": "code",
   "execution_count": 23,
   "id": "2775bfb5-aa8f-465a-be19-6f4363bf19ab",
   "metadata": {},
   "outputs": [],
   "source": [
    "# set Rockset client\n",
    "ROCKSET_REGION = Regions.INSERT_YOUR_REGION_HERE #for example, Regions.usw2a1\n",
    "ROCKSET_API_KEY='INSERT_YOUR_KEY_HERE'\n",
    "rockset_client = RocksetClient(host=ROCKSET_REGION, api_key=ROCKSET_API_KEY)\n",
    "\n",
    "# set LLM (OpenAI)\n",
    "OPENAI_API_KEY='INSERT_YOUR_KEY_HERE'\n",
    "llm = OpenAI(model_name="gpt-4-0613", temperature=0.2, openai_api_key=OPENAI_API_KEY) #temperature affects the randommess of the output"
   ]
  },
  {
   "cell_type": "code",
   "execution_count": 31,
   "id": "3c91adb9-4a29-40b3-a3a4-34431daae858",
   "metadata": {},
   "outputs": [
    {
     "name": "stdout",
     "output_type": "stream",
     "text": [
      "Done loading documents.\n"
     ]
    }
   ],
   "source": [
    "# Step 1: Document Loaders\n",
    "sql =  \"SELECT \\\n",
    "            _id, \\\n",
    "            'rockset' as source, \\\n",
    "            f.title, \\\n",
    "            f.overview, \\\n",
    "            JSON_FORMAT(f.genres) as genres, \\\n",
    "            CAST(f.release_date as string) as release_date, \\\n",
    "            CAST(f.revenue as string) as revenue, \\\n",
    "            CAST(f.runtime as string) as runtime \\\n",
    "        FROM \\\n",
    "            movies.film_releases  f \\\n",
    "        WHERE \\\n",
    "            f.revenue != 0\"\n",
    "\n",
    "loader = RocksetLoader(\n",
    "    client=rockset_client,\n",
    "    query=models.QueryRequestSql(query=sql),\n",
    "    content_keys=[\"title\",\"overview\",\"genres\",\"revenue\",\"runtime\",\"release_date\"], # fields the llm should look at!\n",
    "    metadata_keys=[\"_id\",\"source\"],\n",
    ")\n",
    "documents = loader.load()\n",
    "\n",
    "print(\"Done loading documents.\")"
   ]
  },
  {
   "cell_type": "code",
   "execution_count": 33,
   "id": "dd457704-be99-4f0b-a268-82d64e16d33a",
   "metadata": {},
   "outputs": [
    {
     "name": "stdout",
     "output_type": "stream",
     "text": [
      "Done splitting documents.\n"
     ]
    }
   ],
   "source": [
    "# Step 2: Document Transformers\n",
    "text_splitter = CharacterTextSplitter(chunk_size=1000, chunk_overlap=0)\n",
    "docs = text_splitter.split_documents(documents)\n",
    "\n",
    "print(\"Done splitting documents.\")"
   ]
  },
  {
   "cell_type": "code",
   "execution_count": 34,
   "id": "457db5c3-5435-4d77-9e93-8c4db4f2b23b",
   "metadata": {},
   "outputs": [
    {
     "name": "stdout",
     "output_type": "stream",
     "text": [
      "Done embedding data!\n"
     ]
    }
   ],
   "source": [
    "# Step 3: Text Embedding (4-5 min)\n",
    "embeddings = OpenAIEmbeddings(\n",
    "    openai_api_key=OPENAI_API_KEY,\n",
    "    model=\"text-embedding-ada-002\"\n",
    ")\n",
    "\n",
    "WRITE_COLLECTION = \"film_embeddings\" # defaults to commons workspace\n",
    "KEY_TO_EMBEDD = \"overview\"\n",
    "EMBEDDING_KEY = \"overview_embedding\"\n",
    "\n",
    "db = Rockset(\n",
    "    client=rockset_client,\n",
    "    embeddings=embeddings,\n",
    "    collection_name=WRITE_COLLECTION,\n",
    "    text_key=KEY_TO_EMBEDD,\n",
    "    embedding_key=EMBEDDING_KEY,\n",
    ")\n",
    "\n",
    "ids = db.add_texts(\n",
    "    texts=[d.page_content for d in docs],\n",
    "    metadatas=[d.metadata for d in docs],\n",
    ")\n",
    "\n",
    "print(\"Done embedding data!\")"
   ]
  },
  {
   "cell_type": "code",
   "execution_count": 54,
   "id": "cbd3039f-4afc-4605-afa7-121803c3286e",
   "metadata": {},
   "outputs": [
    {
     "name": "stdout",
     "output_type": "stream",
     "text": [
      "Vector Store initialized.\n"
     ]
    }
   ],
   "source": [
    "# Step 4: Vector Store\n",
    "vectorstore_info = VectorStoreInfo(\n",
    "    name=\"movie_data\",\n",
    "    description=\"Information about movies including title, overview, genres, release_date, revenue, and runtime. \\\n",
    "                 This can be used to help users find movies they might want to watch.\",\n",
    "    vectorstore=db\n",
    ")\n",
    "\n",
    "print(\"Vector Store initialized.\")"
   ]
  },
  {
   "cell_type": "code",
   "execution_count": 55,
   "id": "394374ed-d170-4b27-afb5-4ce5bccdb443",
   "metadata": {},
   "outputs": [
    {
     "name": "stdout",
     "output_type": "stream",
     "text": [
      "Agent initialized.\n"
     ]
    }
   ],
   "source": [
    "# Step 5: Agent & Toolkit\n",
    "vectorStoretoolkit = VectorStoreToolkit(llm = llm, vectorstore_info=vectorstore_info)\n",
    "agent_executor = create_vectorstore_agent(llm=llm, toolkit=vectorStoretoolkit, verbose=True) #verbose allows us to see how the agent thinks!\n",
    "\n",
    "print(\"Agent initialized.\")"
   ]
  },
  {
   "cell_type": "code",
   "execution_count": 48,
   "id": "24788b5e-2662-4cf6-bfec-ad2700c937d4",
   "metadata": {},
   "outputs": [
    {
     "name": "stdout",
     "output_type": "stream",
     "text": [
      "\n",
      "\n",
      "\u001b[1m> Entering new AgentExecutor chain...\u001b[0m\n",
      "\u001b[32;1m\u001b[1;3m I need to use the movie_data tool to find movies that match the user's criteria.\n",
      "Action: movie_data\n",
      "Action Input: Find movies from the eighties that are funny\u001b[0m\n",
      "Observation: \u001b[36;1m\u001b[1;3m Earth Girls Are Easy (1988) and American Graffiti (1973).\u001b[0m\n",
      "Thought:\u001b[32;1m\u001b[1;3m I now have two movies that match the user's criteria.\n",
      "Action: movie_data\n",
      "Action Input: Provide a brief summary of Earth Girls Are Easy (1988)\u001b[0m\n",
      "Observation: \u001b[36;1m\u001b[1;3m Earth Girls Are Easy is a musical comedy about Valerie, whose philandering fiancé Ted is interrupted when a trio of aliens crash their spaceship into her swimming pool. After being shaved at her girlfriend's salon, the aliens are revealed to be three handsome men, and they set out to explore 1980s Los Angeles.\u001b[0m\n",
      "Thought:\u001b[32;1m\u001b[1;3m I now have a brief summary of Earth Girls Are Easy (1988).\n",
      "Action: movie_data\n",
      "Action Input: Provide a brief summary of American Graffiti (1973)\u001b[0m\n",
      "Observation: \u001b[36;1m\u001b[1;3m American Graffiti (1973) is a comedy-drama about a couple of high school graduates who spend one final night cruising the strip with their buddies before they go off to college. The movie was released in 1973 and grossed $140 million. It has a runtime of 110 minutes.\u001b[0m\n",
      "Thought:\u001b[32;1m\u001b[1;3m I now have a brief summary of American Graffiti (1973).\n",
      "Final Answer: I recommend Earth Girls Are Easy (1988) and American Graffiti (1973). Earth Girls Are Easy is a musical comedy about Valerie, whose philandering fiancé Ted is interrupted when a trio of aliens crash their spaceship into her swimming pool. After being shaved at her girlfriend's salon, the aliens are revealed to be three handsome men, and they set out to explore 1980s Los Angeles. American Graffiti (1973) is a comedy-drama about a couple of high school graduates who spend one final night cruising the strip with their buddies before they go off to college. The movie was released in 1973 and grossed $140 million. It has a runtime of 110 minutes.\u001b[0m\n",
      "\n",
      "\u001b[1m> Finished chain.\u001b[0m\n"
     ]
    }
   ],
   "source": [
    "response = agent_executor.run(\n",
    "    \"The user wants to find which movies to watch. Using only the data in your toolkit help the user descide which movies  \\\n",
    "    they should watch based off this message: 'I like funny movies from the eighties'. Give a long explanation of how you came to this answer.\"\n",
    ")"
   ]
  },
  {
   "cell_type": "code",
   "execution_count": 56,
   "id": "609221f0-bc3f-447e-9ddb-4407be51bf8b",
   "metadata": {},
   "outputs": [
    {
     "name": "stdout",
     "output_type": "stream",
     "text": [
      "\n",
      "\n",
      "\u001b[1m> Entering new AgentExecutor chain...\u001b[0m\n",
      "\u001b[32;1m\u001b[1;3m I need to use the movie_data_with_sources tool to answer this question.\n",
      "Action: movie_data_with_sources\n",
      "Action Input: Is there a correlation between runtime and revenue?\u001b[0m\n",
      "Observation: \u001b[33;1m\u001b[1;3m{\"answer\": \" There is no correlation between runtime and revenue.\\n\", \"sources\": \"rockset\"}\u001b[0m\n",
      "Thought:\u001b[32;1m\u001b[1;3m I need to provide a long explanation.\n",
      "Action: movie_data_with_sources\n",
      "Action Input: Explain why there is no correlation between runtime and revenue.\u001b[0m\n",
      "Observation: \u001b[33;1m\u001b[1;3m{\"answer\": \" There is no correlation between runtime and revenue because the amount of revenue generated by a movie is determined by a variety of factors, such as the genre, the actors, the marketing, and the audience reception.\\n\", \"sources\": \"rockset\"}\u001b[0m\n",
      "Thought:\u001b[32;1m\u001b[1;3m I now know the final answer.\n",
      "Final Answer: There is no correlation between runtime and revenue because the amount of revenue generated by a movie is determined by a variety of factors, such as the genre, the actors, the marketing, and the audience reception.\u001b[0m\n",
      "\n",
      "\u001b[1m> Finished chain.\u001b[0m\n"
     ]
    }
   ],
   "source": [
    "response = agent_executor.run(\n",
    "    \"The user wants to release a new movie and they want to ensure they earn the highest revenue they can. Is there a correlation \\\n",
    "    between runtime and revenue? Is the correlation significant? Include a long explanation.\"\n",
    ")"
   ]
  },
  {
   "cell_type": "code",
   "execution_count": null,
   "id": "5f9b0c8c-d348-4972-bcaf-9cabd745d2de",
   "metadata": {},
   "outputs": [],
   "source": [
    "# What if we use another agent/toolkit to solve this problem? Let's try the Pandas Agent!"
   ]
  },
  {
   "cell_type": "code",
   "execution_count": 62,
   "id": "887a6caf-61c4-41b5-a8cc-47fd400fd0b3",
   "metadata": {},
   "outputs": [
    {
     "name": "stdout",
     "output_type": "stream",
     "text": [
      "Done loading documents.\n"
     ]
    }
   ],
   "source": [
    "from langchain.agents import create_pandas_dataframe_agent\n",
    "from langchain.chat_models import ChatOpenAI\n",
    "from langchain.agents.agent_types import AgentType\n",
    "import pandas as pd\n",
    "\n",
    "# Document Loading\n",
    "sql =  \"SELECT \\\n",
    "            f.title, \\\n",
    "            f.overview, \\\n",
    "            f.genres, \\\n",
    "            f.release_date, \\\n",
    "            f.revenue, \\\n",
    "            f.runtime \\\n",
    "        FROM \\\n",
    "            movies.film_releases  f \\\n",
    "        WHERE \\\n",
    "            f.revenue != 0\"\n",
    "\n",
    "api_response = rockset_client.sql(query=sql)\n",
    "df = pd.DataFrame(api_response.results)\n",
    "\n",
    "print(\"Done loading documents.\")"
   ]
  },
  {
   "cell_type": "code",
   "execution_count": 63,
   "id": "a927e2c7-7ae2-4ba5-b621-28b006480ca0",
   "metadata": {},
   "outputs": [
    {
     "name": "stdout",
     "output_type": "stream",
     "text": [
      "Agent initialized.\n"
     ]
    }
   ],
   "source": [
    "# Agent & Toolkit\n",
    "agent = create_pandas_dataframe_agent(\n",
    "    ChatOpenAI(\n",
    "        temperature=0, \n",
    "        model=\"gpt-3.5-turbo-0613\", \n",
    "        openai_api_key=OPENAI_API_KEY\n",
    "    ),\n",
    "    df,\n",
    "    verbose=True,\n",
    "    agent_type=AgentType.OPENAI_FUNCTIONS\n",
    ")\n",
    "\n",
    "print(\"Agent initialized.\")"
   ]
  },
  {
   "cell_type": "code",
   "execution_count": 64,
   "id": "7ef2e76b-07c8-40e5-a41c-6c5a824553fc",
   "metadata": {},
   "outputs": [
    {
     "name": "stdout",
     "output_type": "stream",
     "text": [
      "\n",
      "\n",
      "\u001b[1m> Entering new AgentExecutor chain...\u001b[0m\n",
      "\u001b[32;1m\u001b[1;3m\n",
      "Invoking: `python_repl_ast` with `df[['revenue', 'runtime']].corr()`\n",
      "\n",
      "\n",
      "\u001b[0m\u001b[36;1m\u001b[1;3m          revenue   runtime\n",
      "revenue  1.000000  0.264922\n",
      "runtime  0.264922  1.000000\u001b[0m\u001b[32;1m\u001b[1;3mThe correlation coefficient between runtime and revenue is approximately 0.2649. This indicates a positive correlation between the two variables, but the correlation is not very strong.\u001b[0m\n",
      "\n",
      "\u001b[1m> Finished chain.\u001b[0m\n"
     ]
    },
    {
     "data": {
      "text/plain": [
       "'The correlation coefficient between runtime and revenue is approximately 0.2649. This indicates a positive correlation between the two variables, but the correlation is not very strong.'"
      ]
     },
     "execution_count": 64,
     "metadata": {},
     "output_type": "execute_result"
    }
   ],
   "source": [
    "agent.run(\n",
    "    \"The user wants to release a new movie and they want to ensure they earn the highest revenue they can. Is there a correlation \\\n",
    "    between runtime and revenue? Is the correlation significant? Calculate the correlation.\"\n",
    ")"
   ]
  },
  {
   "cell_type": "code",
   "execution_count": 65,
   "id": "3bdd278d-e183-4a8d-a18c-651e60accbee",
   "metadata": {},
   "outputs": [
    {
     "name": "stdout",
     "output_type": "stream",
     "text": [
      "\n",
      "\n",
      "\u001b[1m> Entering new AgentExecutor chain...\u001b[0m\n",
      "\u001b[32;1m\u001b[1;3mTo determine if there is a correlation between the day of the week a movie is released and the total sum revenue, we can analyze the data in the `df` dataframe.\n",
      "\n",
      "First, we need to convert the `release_date` column to a datetime format and extract the day of the week for each movie. We can do this using the `pd.to_datetime()` function and the `dt.dayofweek` attribute in pandas.\n",
      "\n",
      "```python\n",
      "import pandas as pd\n",
      "\n",
      "# Convert release_date column to datetime format\n",
      "df['release_date'] = pd.to_datetime(df['release_date'])\n",
      "\n",
      "# Extract day of the week\n",
      "df['day_of_week'] = df['release_date'].dt.dayofweek\n",
      "```\n",
      "\n",
      "Next, we can calculate the total sum revenue for each day of the week using the `groupby()` function in pandas.\n",
      "\n",
      "```python\n",
      "revenue_by_day = df.groupby('day_of_week')['revenue'].sum()\n",
      "```\n",
      "\n",
      "Now, we can plot a bar graph to visualize the correlation between the day of the week and total sum revenue.\n",
      "\n",
      "```python\n",
      "import matplotlib.pyplot as plt\n",
      "\n",
      "# Define the days of the week\n",
      "days_of_week = ['Monday', 'Tuesday', 'Wednesday', 'Thursday', 'Friday', 'Saturday', 'Sunday']\n",
      "\n",
      "# Plot the bar graph\n",
      "plt.bar(days_of_week, revenue_by_day)\n",
      "plt.xlabel('Day of the Week')\n",
      "plt.ylabel('Total Sum Revenue')\n",
      "plt.title('Correlation between Day of the Week and Total Sum Revenue')\n",
      "plt.show()\n",
      "```\n",
      "\n",
      "The resulting graph will show the total sum revenue for each day of the week. If there is a correlation, we would expect to see certain days with higher revenue compared to others.\n",
      "\n",
      "The interpretation of the graph will depend on the specific data in the `df` dataframe. If there is a clear pattern where certain days consistently have higher revenue, then we can conclude that there is a correlation between the day of the week and total sum revenue. However, if the revenue is evenly distributed across all days of the week, then there may not be a significant correlation.\n",
      "\n",
      "Note that correlation does not imply causation. Even if there is a correlation between the day of the week and total sum revenue, it does not necessarily mean that releasing a movie on a specific day will guarantee higher revenue. There are many other factors that can influence a movie's success, such as the genre, marketing, competition, and audience preferences.\n",
      "\n",
      "It is also important to consider the sample size and the representativeness of the data. If the `df` dataframe contains a small number of movies or if it is not a representative sample of all movies, the correlation observed may not be applicable to the entire population of movies.\n",
      "\n",
      "Overall, analyzing the correlation between the day of the week a movie is released and total sum revenue can provide some insights, but it should be considered alongside other factors when making decisions about movie releases.\u001b[0m\n",
      "\n",
      "\u001b[1m> Finished chain.\u001b[0m\n"
     ]
    },
    {
     "data": {
      "text/plain": [
       "\"To determine if there is a correlation between the day of the week a movie is released and the total sum revenue, we can analyze the data in the `df` dataframe.\\n\\nFirst, we need to convert the `release_date` column to a datetime format and extract the day of the week for each movie. We can do this using the `pd.to_datetime()` function and the `dt.dayofweek` attribute in pandas.\\n\\n```python\\nimport pandas as pd\\n\\n# Convert release_date column to datetime format\\ndf['release_date'] = pd.to_datetime(df['release_date'])\\n\\n# Extract day of the week\\ndf['day_of_week'] = df['release_date'].dt.dayofweek\\n```\\n\\nNext, we can calculate the total sum revenue for each day of the week using the `groupby()` function in pandas.\\n\\n```python\\nrevenue_by_day = df.groupby('day_of_week')['revenue'].sum()\\n```\\n\\nNow, we can plot a bar graph to visualize the correlation between the day of the week and total sum revenue.\\n\\n```python\\nimport matplotlib.pyplot as plt\\n\\n# Define the days of the week\\ndays_of_week = ['Monday', 'Tuesday', 'Wednesday', 'Thursday', 'Friday', 'Saturday', 'Sunday']\\n\\n# Plot the bar graph\\nplt.bar(days_of_week, revenue_by_day)\\nplt.xlabel('Day of the Week')\\nplt.ylabel('Total Sum Revenue')\\nplt.title('Correlation between Day of the Week and Total Sum Revenue')\\nplt.show()\\n```\\n\\nThe resulting graph will show the total sum revenue for each day of the week. If there is a correlation, we would expect to see certain days with higher revenue compared to others.\\n\\nThe interpretation of the graph will depend on the specific data in the `df` dataframe. If there is a clear pattern where certain days consistently have higher revenue, then we can conclude that there is a correlation between the day of the week and total sum revenue. However, if the revenue is evenly distributed across all days of the week, then there may not be a significant correlation.\\n\\nNote that correlation does not imply causation. Even if there is a correlation between the day of the week and total sum revenue, it does not necessarily mean that releasing a movie on a specific day will guarantee higher revenue. There are many other factors that can influence a movie's success, such as the genre, marketing, competition, and audience preferences.\\n\\nIt is also important to consider the sample size and the representativeness of the data. If the `df` dataframe contains a small number of movies or if it is not a representative sample of all movies, the correlation observed may not be applicable to the entire population of movies.\\n\\nOverall, analyzing the correlation between the day of the week a movie is released and total sum revenue can provide some insights, but it should be considered alongside other factors when making decisions about movie releases.\""
      ]
     },
     "execution_count": 65,
     "metadata": {},
     "output_type": "execute_result"
    }
   ],
   "source": [
    "agent.run(\n",
    "    \"The user wants to release a new movie and they want to ensure they earn the highest revenue they can. Is there a correlation \\\n",
    "    between the day of the week the movie was released and total sum revenue? Include a long explanation and include a graph.\"\n",
    ")"
   ]
  },
  {
   "cell_type": "code",
   "execution_count": 66,
   "id": "c8a2801a-2e0d-4300-98bf-aa36e37efc2e",
   "metadata": {},
   "outputs": [
    {
     "data": {
      "image/png": "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",
      "text/plain": [
       "<Figure size 640x480 with 1 Axes>"
      ]
     },
     "metadata": {},
     "output_type": "display_data"
    }
   ],
   "source": [
    "import pandas as pd\n",
    "\n",
    "# Convert release_date column to datetime format\n",
    "df['release_date'] = pd.to_datetime(df['release_date'])\n",
    "\n",
    "# Extract day of the week\n",
    "df['day_of_week'] = df['release_date'].dt.dayofweek\n",
    "\n",
    "revenue_by_day = df.groupby('day_of_week')['revenue'].sum()\n",
    "\n",
    "import matplotlib.pyplot as plt\n",
    "\n",
    "# Define the days of the week\n",
    "days_of_week = ['Monday', 'Tuesday', 'Wednesday', 'Thursday', 'Friday', 'Saturday', 'Sunday']\n",
    "\n",
    "# Plot the bar graph\n",
    "plt.bar(days_of_week, revenue_by_day)\n",
    "plt.xlabel('Day of the Week')\n",
    "plt.ylabel('Total Sum Revenue')\n",
    "plt.title('Correlation between Day of the Week and Total Sum Revenue')\n",
    "plt.show()"
   ]
  },
  {
   "cell_type": "code",
   "execution_count": null,
   "id": "2469a47a-89aa-4623-b4f7-886c0f29fc6f",
   "metadata": {},
   "outputs": [],
   "source": []
  }
 ],
 "metadata": {
  "kernelspec": {
   "display_name": "Python 3 (ipykernel)",
   "language": "python",
   "name": "python3"
  },
  "language_info": {
   "codemirror_mode": {
    "name": "ipython",
    "version": 3
   },
   "file_extension": ".py",
   "mimetype": "text/x-python",
   "name": "python",
   "nbconvert_exporter": "python",
   "pygments_lexer": "ipython3",
   "version": "3.11.4"
  }
 },
 "nbformat": 4,
 "nbformat_minor": 5
}
